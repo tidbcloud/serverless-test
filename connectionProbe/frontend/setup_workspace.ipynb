{
 "cells": [
  {
   "cell_type": "markdown",
   "id": "92d01ac3",
   "metadata": {},
   "source": [
    "# Next.js 14 + Tailwind CSS 前端开发环境自动化搭建\n",
    "\n",
    "本 notebook 将自动化完成一个可部署到 Vercel/Netlify 的 Next.js 14 + Tailwind CSS 前端项目的初始化、依赖安装、Git 配置、虚拟环境管理与基础文件生成。适用于 connectionProbe 可观测性前端开发。"
   ]
  },
  {
   "cell_type": "markdown",
   "id": "eb35af94",
   "metadata": {},
   "source": [
    "## 1. 安装所需 Node.js 及依赖包\n",
    "\n",
    "本节将安装 Node.js（如本地未安装），并初始化 Next.js 14 + Tailwind CSS 项目。"
   ]
  },
  {
   "cell_type": "code",
   "execution_count": null,
   "id": "baedd6ab",
   "metadata": {
    "vscode": {
     "languageId": "bash"
    }
   },
   "outputs": [],
   "source": [
    "# 安装 Node.js（如已安装可跳过）\n",
    "# !curl -fsSL https://fnm.vercel.app/install | bash\n",
    "# source ~/.bashrc\n",
    "# fnm install 20\n",
    "\n",
    "# 初始化 Next.js 14 项目\n",
    "npx create-next-app@latest . --ts --app --eslint --tailwind --src-dir --import-alias \"@/*\" --no-interactive\n",
    "\n",
    "# 安装 MySQL 驱动\n",
    "npm install mysql2\n",
    "\n",
    "# 安装 recharts 用于可视化\n",
    "npm install recharts\n"
   ]
  },
  {
   "cell_type": "markdown",
   "id": "291e5540",
   "metadata": {},
   "source": [
    "## 2. 初始化 Git 仓库并配置 .gitignore\n",
    "\n",
    "本节将初始化 Git 仓库并生成常用 .gitignore 文件。"
   ]
  },
  {
   "cell_type": "markdown",
   "id": "36571eea",
   "metadata": {},
   "source": []
  },
  {
   "cell_type": "code",
   "execution_count": null,
   "id": "1e8dc067",
   "metadata": {
    "vscode": {
     "languageId": "bash"
    }
   },
   "outputs": [],
   "source": [
    "git init\n",
    "cat > .gitignore <<EOF\n",
    "# Node\n",
    "node_modules/\n",
    ".next/\n",
    ".env*\n",
    ".DS_Store\n",
    "npm-debug.log*\n",
    "yarn-debug.log*\n",
    "yarn-error.log*\n",
    "EOF\n"
   ]
  },
  {
   "cell_type": "markdown",
   "id": "c7ec3af0",
   "metadata": {},
   "source": [
    "## 3. 配置 .env 文件（MySQL 连接）\n",
    "\n",
    "本节将创建 .env.local 文件，配置 MySQL 数据库连接参数，供 Next.js API 路由使用。"
   ]
  },
  {
   "cell_type": "code",
   "execution_count": null,
   "id": "b400f818",
   "metadata": {
    "vscode": {
     "languageId": "bash"
    }
   },
   "outputs": [],
   "source": [
    "cat > .env.local <<EOF\n",
    "MYSQL_HOST=your-mysql-host\n",
    "MYSQL_PORT=4000\n",
    "MYSQL_USER=your-user\n",
    "MYSQL_PASSWORD=your-password\n",
    "MYSQL_DATABASE=your-database\n",
    "EOF\n"
   ]
  },
  {
   "cell_type": "markdown",
   "id": "5946bdb5",
   "metadata": {},
   "source": [
    "## 4. 创建 Next.js API 路由用于聚合 MySQL 数据\n",
    "\n",
    "本节将实现 `/app/api/probe-result/route.ts`，用于查询近30天、按 region/plan 聚合的可用性与延迟数据。"
   ]
  }
 ],
 "metadata": {
  "language_info": {
   "name": "python"
  }
 },
 "nbformat": 4,
 "nbformat_minor": 5
}
